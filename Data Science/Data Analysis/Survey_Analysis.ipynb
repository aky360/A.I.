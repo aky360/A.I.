{
  "nbformat": 4,
  "nbformat_minor": 0,
  "metadata": {
    "colab": {
      "provenance": [],
      "authorship_tag": "ABX9TyP9qJgSUWR5DEnvBAhfdbay",
      "include_colab_link": true
    },
    "kernelspec": {
      "name": "python3",
      "display_name": "Python 3"
    },
    "language_info": {
      "name": "python"
    }
  },
  "cells": [
    {
      "cell_type": "markdown",
      "metadata": {
        "id": "view-in-github",
        "colab_type": "text"
      },
      "source": [
        "<a href=\"https://colab.research.google.com/github/aky360/A.I./blob/main/Data%20Science/Data%20Analysis/Survey_Analysis.ipynb\" target=\"_parent\"><img src=\"https://colab.research.google.com/assets/colab-badge.svg\" alt=\"Open In Colab\"/></a>"
      ]
    },
    {
      "cell_type": "markdown",
      "source": [
        "**Question 1 - Load the dataset into a pandas dataframe. Name the variable as “survey”.**\n",
        "\n",
        "**Question 2 - How many samples were collected on each day?**\n",
        "\n",
        "**Question 3 - What proportion of the total respondents were aged less than 45?**\n",
        "\n",
        "**Question 4 - Create a new column in the dataframe “age_group”. This column should contain the age group the respondent belongs to. The age groups are 18-25, 25-40, 40-55 and 55+. The dataframe should look like this after the column creation.**\n",
        "\n",
        "**Question 5 - How many samples were collected for each age-group? Which age-group had the most samples?**\n",
        "\n",
        "**Question 6 - What proportion of the respondents had opted for the RJD party in both the Vote_Now and the Past_Vote questions?**\n",
        "\n",
        "**Question 7 - For each day of sample collection, determine the proportion of respondents who were fully satisfied with the performance of the CM. So if there were a total of 1000 samples on day 1 and 300 out of those said they were fully satisfied, then our answer for that day would be 0.3.**\n",
        "\n",
        "**Question 8 - In a similar fashion create a day-wise proportion of respondents that opted fully dissatisfied with their MLA. Create a line plot of the result with date on x-axis and proportions on the y-axis.**\n",
        "\n",
        "**Question 9 - Create a pivot-table (or crosstab) with index as Past_Vote, Column as Vote_Now and cell values as the count of samples.\n",
        "Answer - survey.pivot_table(index = 'Past_Vote', columns = 'Vote_Now', values = 'response_id', aggfunc = 'count')**\n",
        "\n",
        "**Question 10 - Repeat the above question with the cell values as the sum of “weight”.**\n",
        "\n",
        "**Question 11 - Create a dataframe by performing a group by over age_group and calculate the count of total samples under each age_group.**\n",
        "\n",
        "**Question 12 - Create a dataframe by performing a group by over age_group and finding the count of total samples for each age_group that opted for the JD(U) party in Vote_Now.**\n",
        "\n",
        "**Question 13 - Join/Merge the two dataframes from questions 12 and 11 with the common column as age_group.**"
      ],
      "metadata": {
        "id": "uGFQJIdR6-LZ"
      }
    },
    {
      "cell_type": "code",
      "execution_count": 1,
      "metadata": {
        "id": "GG_DxuD165JJ"
      },
      "outputs": [],
      "source": [
        "import pandas as pd\n",
        "import numpy as np\n",
        "import matplotlib.pyplot as plt\n",
        "import seaborn as sns"
      ]
    },
    {
      "cell_type": "code",
      "source": [
        "url = \"https://raw.githubusercontent.com/aky360/A.I./main/Data%20Science/Data%20Analysis/Datasets/Survey%20Dataset%20-%20Technical%20Interview.csv\"\n",
        "survey = pd.read_csv(url)\n",
        "survey"
      ],
      "metadata": {
        "colab": {
          "base_uri": "https://localhost:8080/",
          "height": 423
        },
        "id": "5Fzy5PnH7lAc",
        "outputId": "1c6f2b0f-53aa-498c-80cc-fec76e22f8f1"
      },
      "execution_count": 2,
      "outputs": [
        {
          "output_type": "execute_result",
          "data": {
            "text/plain": [
              "      response_id collection_date urban_rural               education  \\\n",
              "0               1       5-24-2017       Rural               12th Pass   \n",
              "1               2       5-24-2017       Rural                Graduate   \n",
              "2               3       5-24-2017       Rural                Graduate   \n",
              "3               4       5-24-2017       Urban                Graduate   \n",
              "4               5       5-24-2017       Rural                Graduate   \n",
              "...           ...             ...         ...                     ...   \n",
              "6862         6863        6-1-2017       Rural               10th Pass   \n",
              "6863         6864        6-1-2017       Rural                Graduate   \n",
              "6864         6865        6-1-2017       Urban                Graduate   \n",
              "6865         6866        6-1-2017       Rural  Professional Education   \n",
              "6866         6867        6-1-2017       Rural               10th Pass   \n",
              "\n",
              "                   income Vote_Now     Past_Vote     CM_satisfaction  \\\n",
              "0     ₹ 30,000 - ₹ 50,000      BJP           BJP  Fully Dissatisfied   \n",
              "1     ₹ 20,000 - ₹ 30,000     RLSP         JD(U)  Somewhat Satisfied   \n",
              "2      ₹ 5,000 - ₹ 10,000   JAP(L)           BJP  Fully Dissatisfied   \n",
              "3     ₹ 10,000 - ₹ 20,000      RJD           RJD  Fully Dissatisfied   \n",
              "4     ₹ 50,000 - ₹ 80,000    JD(U)  Did not vote     Fully Satisfied   \n",
              "...                   ...      ...           ...                 ...   \n",
              "6862    BPL/Below ₹ 5,000    JD(U)           BJP     Fully Satisfied   \n",
              "6863    BPL/Below ₹ 5,000      RJD           RJD  Fully Dissatisfied   \n",
              "6864   ₹ 5,000 - ₹ 10,000   JAP(L)           RJD           Can’t say   \n",
              "6865  ₹ 10,000 - ₹ 20,000      BJP  Did not vote     Fully Satisfied   \n",
              "6866   ₹ 5,000 - ₹ 10,000   JAP(L)        JAP(L)     Fully Satisfied   \n",
              "\n",
              "        MLA_satisfaction age gender  assembly_no category    weight  \n",
              "0     Fully Dissatisfied  26   Male          211      Gen  0.346969  \n",
              "1     Fully Dissatisfied  34   Male          189       BC  0.603419  \n",
              "2     Somewhat Satisfied  25   Male          191      Gen  0.673762  \n",
              "3     Somewhat Satisfied  36   Male          194      Gen  1.101298  \n",
              "4        Fully Satisfied  22   Male          176       BC  0.333505  \n",
              "...                  ...  ..    ...          ...      ...       ...  \n",
              "6862  Fully Dissatisfied  25   Male          166      Gen  0.036329  \n",
              "6863  Fully Dissatisfied  30   Male          169       BC  0.252780  \n",
              "6864  Fully Dissatisfied  20   Male          241      Gen  1.812926  \n",
              "6865  Somewhat Satisfied  23   Male          243      Gen  0.080137  \n",
              "6866     Fully Satisfied  33   Male          241      Gen  1.797518  \n",
              "\n",
              "[6867 rows x 14 columns]"
            ],
            "text/html": [
              "\n",
              "  <div id=\"df-0f2ef6e9-ae7d-49d6-92f8-a0acdd58d094\" class=\"colab-df-container\">\n",
              "    <div>\n",
              "<style scoped>\n",
              "    .dataframe tbody tr th:only-of-type {\n",
              "        vertical-align: middle;\n",
              "    }\n",
              "\n",
              "    .dataframe tbody tr th {\n",
              "        vertical-align: top;\n",
              "    }\n",
              "\n",
              "    .dataframe thead th {\n",
              "        text-align: right;\n",
              "    }\n",
              "</style>\n",
              "<table border=\"1\" class=\"dataframe\">\n",
              "  <thead>\n",
              "    <tr style=\"text-align: right;\">\n",
              "      <th></th>\n",
              "      <th>response_id</th>\n",
              "      <th>collection_date</th>\n",
              "      <th>urban_rural</th>\n",
              "      <th>education</th>\n",
              "      <th>income</th>\n",
              "      <th>Vote_Now</th>\n",
              "      <th>Past_Vote</th>\n",
              "      <th>CM_satisfaction</th>\n",
              "      <th>MLA_satisfaction</th>\n",
              "      <th>age</th>\n",
              "      <th>gender</th>\n",
              "      <th>assembly_no</th>\n",
              "      <th>category</th>\n",
              "      <th>weight</th>\n",
              "    </tr>\n",
              "  </thead>\n",
              "  <tbody>\n",
              "    <tr>\n",
              "      <th>0</th>\n",
              "      <td>1</td>\n",
              "      <td>5-24-2017</td>\n",
              "      <td>Rural</td>\n",
              "      <td>12th Pass</td>\n",
              "      <td>₹ 30,000 - ₹ 50,000</td>\n",
              "      <td>BJP</td>\n",
              "      <td>BJP</td>\n",
              "      <td>Fully Dissatisfied</td>\n",
              "      <td>Fully Dissatisfied</td>\n",
              "      <td>26</td>\n",
              "      <td>Male</td>\n",
              "      <td>211</td>\n",
              "      <td>Gen</td>\n",
              "      <td>0.346969</td>\n",
              "    </tr>\n",
              "    <tr>\n",
              "      <th>1</th>\n",
              "      <td>2</td>\n",
              "      <td>5-24-2017</td>\n",
              "      <td>Rural</td>\n",
              "      <td>Graduate</td>\n",
              "      <td>₹ 20,000 - ₹ 30,000</td>\n",
              "      <td>RLSP</td>\n",
              "      <td>JD(U)</td>\n",
              "      <td>Somewhat Satisfied</td>\n",
              "      <td>Fully Dissatisfied</td>\n",
              "      <td>34</td>\n",
              "      <td>Male</td>\n",
              "      <td>189</td>\n",
              "      <td>BC</td>\n",
              "      <td>0.603419</td>\n",
              "    </tr>\n",
              "    <tr>\n",
              "      <th>2</th>\n",
              "      <td>3</td>\n",
              "      <td>5-24-2017</td>\n",
              "      <td>Rural</td>\n",
              "      <td>Graduate</td>\n",
              "      <td>₹ 5,000 - ₹ 10,000</td>\n",
              "      <td>JAP(L)</td>\n",
              "      <td>BJP</td>\n",
              "      <td>Fully Dissatisfied</td>\n",
              "      <td>Somewhat Satisfied</td>\n",
              "      <td>25</td>\n",
              "      <td>Male</td>\n",
              "      <td>191</td>\n",
              "      <td>Gen</td>\n",
              "      <td>0.673762</td>\n",
              "    </tr>\n",
              "    <tr>\n",
              "      <th>3</th>\n",
              "      <td>4</td>\n",
              "      <td>5-24-2017</td>\n",
              "      <td>Urban</td>\n",
              "      <td>Graduate</td>\n",
              "      <td>₹ 10,000 - ₹ 20,000</td>\n",
              "      <td>RJD</td>\n",
              "      <td>RJD</td>\n",
              "      <td>Fully Dissatisfied</td>\n",
              "      <td>Somewhat Satisfied</td>\n",
              "      <td>36</td>\n",
              "      <td>Male</td>\n",
              "      <td>194</td>\n",
              "      <td>Gen</td>\n",
              "      <td>1.101298</td>\n",
              "    </tr>\n",
              "    <tr>\n",
              "      <th>4</th>\n",
              "      <td>5</td>\n",
              "      <td>5-24-2017</td>\n",
              "      <td>Rural</td>\n",
              "      <td>Graduate</td>\n",
              "      <td>₹ 50,000 - ₹ 80,000</td>\n",
              "      <td>JD(U)</td>\n",
              "      <td>Did not vote</td>\n",
              "      <td>Fully Satisfied</td>\n",
              "      <td>Fully Satisfied</td>\n",
              "      <td>22</td>\n",
              "      <td>Male</td>\n",
              "      <td>176</td>\n",
              "      <td>BC</td>\n",
              "      <td>0.333505</td>\n",
              "    </tr>\n",
              "    <tr>\n",
              "      <th>...</th>\n",
              "      <td>...</td>\n",
              "      <td>...</td>\n",
              "      <td>...</td>\n",
              "      <td>...</td>\n",
              "      <td>...</td>\n",
              "      <td>...</td>\n",
              "      <td>...</td>\n",
              "      <td>...</td>\n",
              "      <td>...</td>\n",
              "      <td>...</td>\n",
              "      <td>...</td>\n",
              "      <td>...</td>\n",
              "      <td>...</td>\n",
              "      <td>...</td>\n",
              "    </tr>\n",
              "    <tr>\n",
              "      <th>6862</th>\n",
              "      <td>6863</td>\n",
              "      <td>6-1-2017</td>\n",
              "      <td>Rural</td>\n",
              "      <td>10th Pass</td>\n",
              "      <td>BPL/Below ₹ 5,000</td>\n",
              "      <td>JD(U)</td>\n",
              "      <td>BJP</td>\n",
              "      <td>Fully Satisfied</td>\n",
              "      <td>Fully Dissatisfied</td>\n",
              "      <td>25</td>\n",
              "      <td>Male</td>\n",
              "      <td>166</td>\n",
              "      <td>Gen</td>\n",
              "      <td>0.036329</td>\n",
              "    </tr>\n",
              "    <tr>\n",
              "      <th>6863</th>\n",
              "      <td>6864</td>\n",
              "      <td>6-1-2017</td>\n",
              "      <td>Rural</td>\n",
              "      <td>Graduate</td>\n",
              "      <td>BPL/Below ₹ 5,000</td>\n",
              "      <td>RJD</td>\n",
              "      <td>RJD</td>\n",
              "      <td>Fully Dissatisfied</td>\n",
              "      <td>Fully Dissatisfied</td>\n",
              "      <td>30</td>\n",
              "      <td>Male</td>\n",
              "      <td>169</td>\n",
              "      <td>BC</td>\n",
              "      <td>0.252780</td>\n",
              "    </tr>\n",
              "    <tr>\n",
              "      <th>6864</th>\n",
              "      <td>6865</td>\n",
              "      <td>6-1-2017</td>\n",
              "      <td>Urban</td>\n",
              "      <td>Graduate</td>\n",
              "      <td>₹ 5,000 - ₹ 10,000</td>\n",
              "      <td>JAP(L)</td>\n",
              "      <td>RJD</td>\n",
              "      <td>Can’t say</td>\n",
              "      <td>Fully Dissatisfied</td>\n",
              "      <td>20</td>\n",
              "      <td>Male</td>\n",
              "      <td>241</td>\n",
              "      <td>Gen</td>\n",
              "      <td>1.812926</td>\n",
              "    </tr>\n",
              "    <tr>\n",
              "      <th>6865</th>\n",
              "      <td>6866</td>\n",
              "      <td>6-1-2017</td>\n",
              "      <td>Rural</td>\n",
              "      <td>Professional Education</td>\n",
              "      <td>₹ 10,000 - ₹ 20,000</td>\n",
              "      <td>BJP</td>\n",
              "      <td>Did not vote</td>\n",
              "      <td>Fully Satisfied</td>\n",
              "      <td>Somewhat Satisfied</td>\n",
              "      <td>23</td>\n",
              "      <td>Male</td>\n",
              "      <td>243</td>\n",
              "      <td>Gen</td>\n",
              "      <td>0.080137</td>\n",
              "    </tr>\n",
              "    <tr>\n",
              "      <th>6866</th>\n",
              "      <td>6867</td>\n",
              "      <td>6-1-2017</td>\n",
              "      <td>Rural</td>\n",
              "      <td>10th Pass</td>\n",
              "      <td>₹ 5,000 - ₹ 10,000</td>\n",
              "      <td>JAP(L)</td>\n",
              "      <td>JAP(L)</td>\n",
              "      <td>Fully Satisfied</td>\n",
              "      <td>Fully Satisfied</td>\n",
              "      <td>33</td>\n",
              "      <td>Male</td>\n",
              "      <td>241</td>\n",
              "      <td>Gen</td>\n",
              "      <td>1.797518</td>\n",
              "    </tr>\n",
              "  </tbody>\n",
              "</table>\n",
              "<p>6867 rows × 14 columns</p>\n",
              "</div>\n",
              "    <div class=\"colab-df-buttons\">\n",
              "\n",
              "  <div class=\"colab-df-container\">\n",
              "    <button class=\"colab-df-convert\" onclick=\"convertToInteractive('df-0f2ef6e9-ae7d-49d6-92f8-a0acdd58d094')\"\n",
              "            title=\"Convert this dataframe to an interactive table.\"\n",
              "            style=\"display:none;\">\n",
              "\n",
              "  <svg xmlns=\"http://www.w3.org/2000/svg\" height=\"24px\" viewBox=\"0 -960 960 960\">\n",
              "    <path d=\"M120-120v-720h720v720H120Zm60-500h600v-160H180v160Zm220 220h160v-160H400v160Zm0 220h160v-160H400v160ZM180-400h160v-160H180v160Zm440 0h160v-160H620v160ZM180-180h160v-160H180v160Zm440 0h160v-160H620v160Z\"/>\n",
              "  </svg>\n",
              "    </button>\n",
              "\n",
              "  <style>\n",
              "    .colab-df-container {\n",
              "      display:flex;\n",
              "      gap: 12px;\n",
              "    }\n",
              "\n",
              "    .colab-df-convert {\n",
              "      background-color: #E8F0FE;\n",
              "      border: none;\n",
              "      border-radius: 50%;\n",
              "      cursor: pointer;\n",
              "      display: none;\n",
              "      fill: #1967D2;\n",
              "      height: 32px;\n",
              "      padding: 0 0 0 0;\n",
              "      width: 32px;\n",
              "    }\n",
              "\n",
              "    .colab-df-convert:hover {\n",
              "      background-color: #E2EBFA;\n",
              "      box-shadow: 0px 1px 2px rgba(60, 64, 67, 0.3), 0px 1px 3px 1px rgba(60, 64, 67, 0.15);\n",
              "      fill: #174EA6;\n",
              "    }\n",
              "\n",
              "    .colab-df-buttons div {\n",
              "      margin-bottom: 4px;\n",
              "    }\n",
              "\n",
              "    [theme=dark] .colab-df-convert {\n",
              "      background-color: #3B4455;\n",
              "      fill: #D2E3FC;\n",
              "    }\n",
              "\n",
              "    [theme=dark] .colab-df-convert:hover {\n",
              "      background-color: #434B5C;\n",
              "      box-shadow: 0px 1px 3px 1px rgba(0, 0, 0, 0.15);\n",
              "      filter: drop-shadow(0px 1px 2px rgba(0, 0, 0, 0.3));\n",
              "      fill: #FFFFFF;\n",
              "    }\n",
              "  </style>\n",
              "\n",
              "    <script>\n",
              "      const buttonEl =\n",
              "        document.querySelector('#df-0f2ef6e9-ae7d-49d6-92f8-a0acdd58d094 button.colab-df-convert');\n",
              "      buttonEl.style.display =\n",
              "        google.colab.kernel.accessAllowed ? 'block' : 'none';\n",
              "\n",
              "      async function convertToInteractive(key) {\n",
              "        const element = document.querySelector('#df-0f2ef6e9-ae7d-49d6-92f8-a0acdd58d094');\n",
              "        const dataTable =\n",
              "          await google.colab.kernel.invokeFunction('convertToInteractive',\n",
              "                                                    [key], {});\n",
              "        if (!dataTable) return;\n",
              "\n",
              "        const docLinkHtml = 'Like what you see? Visit the ' +\n",
              "          '<a target=\"_blank\" href=https://colab.research.google.com/notebooks/data_table.ipynb>data table notebook</a>'\n",
              "          + ' to learn more about interactive tables.';\n",
              "        element.innerHTML = '';\n",
              "        dataTable['output_type'] = 'display_data';\n",
              "        await google.colab.output.renderOutput(dataTable, element);\n",
              "        const docLink = document.createElement('div');\n",
              "        docLink.innerHTML = docLinkHtml;\n",
              "        element.appendChild(docLink);\n",
              "      }\n",
              "    </script>\n",
              "  </div>\n",
              "\n",
              "\n",
              "<div id=\"df-48a6df3e-b4b7-4a27-8313-e2d7856f43e5\">\n",
              "  <button class=\"colab-df-quickchart\" onclick=\"quickchart('df-48a6df3e-b4b7-4a27-8313-e2d7856f43e5')\"\n",
              "            title=\"Suggest charts.\"\n",
              "            style=\"display:none;\">\n",
              "\n",
              "<svg xmlns=\"http://www.w3.org/2000/svg\" height=\"24px\"viewBox=\"0 0 24 24\"\n",
              "     width=\"24px\">\n",
              "    <g>\n",
              "        <path d=\"M19 3H5c-1.1 0-2 .9-2 2v14c0 1.1.9 2 2 2h14c1.1 0 2-.9 2-2V5c0-1.1-.9-2-2-2zM9 17H7v-7h2v7zm4 0h-2V7h2v10zm4 0h-2v-4h2v4z\"/>\n",
              "    </g>\n",
              "</svg>\n",
              "  </button>\n",
              "\n",
              "<style>\n",
              "  .colab-df-quickchart {\n",
              "    background-color: #E8F0FE;\n",
              "    border: none;\n",
              "    border-radius: 50%;\n",
              "    cursor: pointer;\n",
              "    display: none;\n",
              "    fill: #1967D2;\n",
              "    height: 32px;\n",
              "    padding: 0 0 0 0;\n",
              "    width: 32px;\n",
              "  }\n",
              "\n",
              "  .colab-df-quickchart:hover {\n",
              "    background-color: #E2EBFA;\n",
              "    box-shadow: 0px 1px 2px rgba(60, 64, 67, 0.3), 0px 1px 3px 1px rgba(60, 64, 67, 0.15);\n",
              "    fill: #174EA6;\n",
              "  }\n",
              "\n",
              "  [theme=dark] .colab-df-quickchart {\n",
              "    background-color: #3B4455;\n",
              "    fill: #D2E3FC;\n",
              "  }\n",
              "\n",
              "  [theme=dark] .colab-df-quickchart:hover {\n",
              "    background-color: #434B5C;\n",
              "    box-shadow: 0px 1px 3px 1px rgba(0, 0, 0, 0.15);\n",
              "    filter: drop-shadow(0px 1px 2px rgba(0, 0, 0, 0.3));\n",
              "    fill: #FFFFFF;\n",
              "  }\n",
              "</style>\n",
              "\n",
              "  <script>\n",
              "    async function quickchart(key) {\n",
              "      const charts = await google.colab.kernel.invokeFunction(\n",
              "          'suggestCharts', [key], {});\n",
              "    }\n",
              "    (() => {\n",
              "      let quickchartButtonEl =\n",
              "        document.querySelector('#df-48a6df3e-b4b7-4a27-8313-e2d7856f43e5 button');\n",
              "      quickchartButtonEl.style.display =\n",
              "        google.colab.kernel.accessAllowed ? 'block' : 'none';\n",
              "    })();\n",
              "  </script>\n",
              "</div>\n",
              "    </div>\n",
              "  </div>\n"
            ]
          },
          "metadata": {},
          "execution_count": 2
        }
      ]
    },
    {
      "cell_type": "code",
      "source": [
        "print(survey.shape, ' => ', survey.size)\n",
        "print(survey.index)\n",
        "print(survey.columns)\n",
        "print(survey.columns.size)\n",
        "print(survey.dtypes)"
      ],
      "metadata": {
        "colab": {
          "base_uri": "https://localhost:8080/"
        },
        "id": "1IDg27aF8o32",
        "outputId": "d2509d7b-f74f-49a1-8e05-7928e2c66f78"
      },
      "execution_count": 3,
      "outputs": [
        {
          "output_type": "stream",
          "name": "stdout",
          "text": [
            "(6867, 14)  =>  96138\n",
            "RangeIndex(start=0, stop=6867, step=1)\n",
            "Index(['response_id', 'collection_date', 'urban_rural', 'education', 'income',\n",
            "       'Vote_Now', 'Past_Vote', 'CM_satisfaction', 'MLA_satisfaction', 'age',\n",
            "       'gender', 'assembly_no', 'category', 'weight'],\n",
            "      dtype='object')\n",
            "14\n",
            "response_id           int64\n",
            "collection_date      object\n",
            "urban_rural          object\n",
            "education            object\n",
            "income               object\n",
            "Vote_Now             object\n",
            "Past_Vote            object\n",
            "CM_satisfaction      object\n",
            "MLA_satisfaction     object\n",
            "age                  object\n",
            "gender               object\n",
            "assembly_no           int64\n",
            "category             object\n",
            "weight              float64\n",
            "dtype: object\n"
          ]
        }
      ]
    },
    {
      "cell_type": "code",
      "source": [
        "survey.info()"
      ],
      "metadata": {
        "colab": {
          "base_uri": "https://localhost:8080/"
        },
        "id": "lTATN40srBk2",
        "outputId": "ae612eec-3a3e-4c38-ea9a-755f95e797e4"
      },
      "execution_count": 4,
      "outputs": [
        {
          "output_type": "stream",
          "name": "stdout",
          "text": [
            "<class 'pandas.core.frame.DataFrame'>\n",
            "RangeIndex: 6867 entries, 0 to 6866\n",
            "Data columns (total 14 columns):\n",
            " #   Column            Non-Null Count  Dtype  \n",
            "---  ------            --------------  -----  \n",
            " 0   response_id       6867 non-null   int64  \n",
            " 1   collection_date   6867 non-null   object \n",
            " 2   urban_rural       6867 non-null   object \n",
            " 3   education         6867 non-null   object \n",
            " 4   income            6867 non-null   object \n",
            " 5   Vote_Now          6867 non-null   object \n",
            " 6   Past_Vote         6867 non-null   object \n",
            " 7   CM_satisfaction   6867 non-null   object \n",
            " 8   MLA_satisfaction  6867 non-null   object \n",
            " 9   age               6867 non-null   object \n",
            " 10  gender            6867 non-null   object \n",
            " 11  assembly_no       6867 non-null   int64  \n",
            " 12  category          6867 non-null   object \n",
            " 13  weight            6867 non-null   float64\n",
            "dtypes: float64(1), int64(2), object(11)\n",
            "memory usage: 751.2+ KB\n"
          ]
        }
      ]
    },
    {
      "cell_type": "code",
      "source": [
        "survey.describe()"
      ],
      "metadata": {
        "colab": {
          "base_uri": "https://localhost:8080/",
          "height": 300
        },
        "id": "3H745CPtrCg_",
        "outputId": "3c9ef351-20d9-47dd-cb30-1537bf917b89"
      },
      "execution_count": 5,
      "outputs": [
        {
          "output_type": "execute_result",
          "data": {
            "text/plain": [
              "       response_id  assembly_no       weight\n",
              "count  6867.000000  6867.000000  6867.000000\n",
              "mean   3434.000000   130.843017     0.995800\n",
              "std    1982.476482    66.420060     2.074578\n",
              "min       1.000000     1.000000     0.001089\n",
              "25%    1717.500000    79.000000     0.137896\n",
              "50%    3434.000000   135.000000     0.369789\n",
              "75%    5150.500000   184.000000     0.956474\n",
              "max    6867.000000   243.000000    51.075631"
            ],
            "text/html": [
              "\n",
              "  <div id=\"df-8ecb3dc7-76df-4d7c-9503-8d8aaf67e527\" class=\"colab-df-container\">\n",
              "    <div>\n",
              "<style scoped>\n",
              "    .dataframe tbody tr th:only-of-type {\n",
              "        vertical-align: middle;\n",
              "    }\n",
              "\n",
              "    .dataframe tbody tr th {\n",
              "        vertical-align: top;\n",
              "    }\n",
              "\n",
              "    .dataframe thead th {\n",
              "        text-align: right;\n",
              "    }\n",
              "</style>\n",
              "<table border=\"1\" class=\"dataframe\">\n",
              "  <thead>\n",
              "    <tr style=\"text-align: right;\">\n",
              "      <th></th>\n",
              "      <th>response_id</th>\n",
              "      <th>assembly_no</th>\n",
              "      <th>weight</th>\n",
              "    </tr>\n",
              "  </thead>\n",
              "  <tbody>\n",
              "    <tr>\n",
              "      <th>count</th>\n",
              "      <td>6867.000000</td>\n",
              "      <td>6867.000000</td>\n",
              "      <td>6867.000000</td>\n",
              "    </tr>\n",
              "    <tr>\n",
              "      <th>mean</th>\n",
              "      <td>3434.000000</td>\n",
              "      <td>130.843017</td>\n",
              "      <td>0.995800</td>\n",
              "    </tr>\n",
              "    <tr>\n",
              "      <th>std</th>\n",
              "      <td>1982.476482</td>\n",
              "      <td>66.420060</td>\n",
              "      <td>2.074578</td>\n",
              "    </tr>\n",
              "    <tr>\n",
              "      <th>min</th>\n",
              "      <td>1.000000</td>\n",
              "      <td>1.000000</td>\n",
              "      <td>0.001089</td>\n",
              "    </tr>\n",
              "    <tr>\n",
              "      <th>25%</th>\n",
              "      <td>1717.500000</td>\n",
              "      <td>79.000000</td>\n",
              "      <td>0.137896</td>\n",
              "    </tr>\n",
              "    <tr>\n",
              "      <th>50%</th>\n",
              "      <td>3434.000000</td>\n",
              "      <td>135.000000</td>\n",
              "      <td>0.369789</td>\n",
              "    </tr>\n",
              "    <tr>\n",
              "      <th>75%</th>\n",
              "      <td>5150.500000</td>\n",
              "      <td>184.000000</td>\n",
              "      <td>0.956474</td>\n",
              "    </tr>\n",
              "    <tr>\n",
              "      <th>max</th>\n",
              "      <td>6867.000000</td>\n",
              "      <td>243.000000</td>\n",
              "      <td>51.075631</td>\n",
              "    </tr>\n",
              "  </tbody>\n",
              "</table>\n",
              "</div>\n",
              "    <div class=\"colab-df-buttons\">\n",
              "\n",
              "  <div class=\"colab-df-container\">\n",
              "    <button class=\"colab-df-convert\" onclick=\"convertToInteractive('df-8ecb3dc7-76df-4d7c-9503-8d8aaf67e527')\"\n",
              "            title=\"Convert this dataframe to an interactive table.\"\n",
              "            style=\"display:none;\">\n",
              "\n",
              "  <svg xmlns=\"http://www.w3.org/2000/svg\" height=\"24px\" viewBox=\"0 -960 960 960\">\n",
              "    <path d=\"M120-120v-720h720v720H120Zm60-500h600v-160H180v160Zm220 220h160v-160H400v160Zm0 220h160v-160H400v160ZM180-400h160v-160H180v160Zm440 0h160v-160H620v160ZM180-180h160v-160H180v160Zm440 0h160v-160H620v160Z\"/>\n",
              "  </svg>\n",
              "    </button>\n",
              "\n",
              "  <style>\n",
              "    .colab-df-container {\n",
              "      display:flex;\n",
              "      gap: 12px;\n",
              "    }\n",
              "\n",
              "    .colab-df-convert {\n",
              "      background-color: #E8F0FE;\n",
              "      border: none;\n",
              "      border-radius: 50%;\n",
              "      cursor: pointer;\n",
              "      display: none;\n",
              "      fill: #1967D2;\n",
              "      height: 32px;\n",
              "      padding: 0 0 0 0;\n",
              "      width: 32px;\n",
              "    }\n",
              "\n",
              "    .colab-df-convert:hover {\n",
              "      background-color: #E2EBFA;\n",
              "      box-shadow: 0px 1px 2px rgba(60, 64, 67, 0.3), 0px 1px 3px 1px rgba(60, 64, 67, 0.15);\n",
              "      fill: #174EA6;\n",
              "    }\n",
              "\n",
              "    .colab-df-buttons div {\n",
              "      margin-bottom: 4px;\n",
              "    }\n",
              "\n",
              "    [theme=dark] .colab-df-convert {\n",
              "      background-color: #3B4455;\n",
              "      fill: #D2E3FC;\n",
              "    }\n",
              "\n",
              "    [theme=dark] .colab-df-convert:hover {\n",
              "      background-color: #434B5C;\n",
              "      box-shadow: 0px 1px 3px 1px rgba(0, 0, 0, 0.15);\n",
              "      filter: drop-shadow(0px 1px 2px rgba(0, 0, 0, 0.3));\n",
              "      fill: #FFFFFF;\n",
              "    }\n",
              "  </style>\n",
              "\n",
              "    <script>\n",
              "      const buttonEl =\n",
              "        document.querySelector('#df-8ecb3dc7-76df-4d7c-9503-8d8aaf67e527 button.colab-df-convert');\n",
              "      buttonEl.style.display =\n",
              "        google.colab.kernel.accessAllowed ? 'block' : 'none';\n",
              "\n",
              "      async function convertToInteractive(key) {\n",
              "        const element = document.querySelector('#df-8ecb3dc7-76df-4d7c-9503-8d8aaf67e527');\n",
              "        const dataTable =\n",
              "          await google.colab.kernel.invokeFunction('convertToInteractive',\n",
              "                                                    [key], {});\n",
              "        if (!dataTable) return;\n",
              "\n",
              "        const docLinkHtml = 'Like what you see? Visit the ' +\n",
              "          '<a target=\"_blank\" href=https://colab.research.google.com/notebooks/data_table.ipynb>data table notebook</a>'\n",
              "          + ' to learn more about interactive tables.';\n",
              "        element.innerHTML = '';\n",
              "        dataTable['output_type'] = 'display_data';\n",
              "        await google.colab.output.renderOutput(dataTable, element);\n",
              "        const docLink = document.createElement('div');\n",
              "        docLink.innerHTML = docLinkHtml;\n",
              "        element.appendChild(docLink);\n",
              "      }\n",
              "    </script>\n",
              "  </div>\n",
              "\n",
              "\n",
              "<div id=\"df-12de6034-f776-43f0-8348-2e9cd047aedc\">\n",
              "  <button class=\"colab-df-quickchart\" onclick=\"quickchart('df-12de6034-f776-43f0-8348-2e9cd047aedc')\"\n",
              "            title=\"Suggest charts.\"\n",
              "            style=\"display:none;\">\n",
              "\n",
              "<svg xmlns=\"http://www.w3.org/2000/svg\" height=\"24px\"viewBox=\"0 0 24 24\"\n",
              "     width=\"24px\">\n",
              "    <g>\n",
              "        <path d=\"M19 3H5c-1.1 0-2 .9-2 2v14c0 1.1.9 2 2 2h14c1.1 0 2-.9 2-2V5c0-1.1-.9-2-2-2zM9 17H7v-7h2v7zm4 0h-2V7h2v10zm4 0h-2v-4h2v4z\"/>\n",
              "    </g>\n",
              "</svg>\n",
              "  </button>\n",
              "\n",
              "<style>\n",
              "  .colab-df-quickchart {\n",
              "    background-color: #E8F0FE;\n",
              "    border: none;\n",
              "    border-radius: 50%;\n",
              "    cursor: pointer;\n",
              "    display: none;\n",
              "    fill: #1967D2;\n",
              "    height: 32px;\n",
              "    padding: 0 0 0 0;\n",
              "    width: 32px;\n",
              "  }\n",
              "\n",
              "  .colab-df-quickchart:hover {\n",
              "    background-color: #E2EBFA;\n",
              "    box-shadow: 0px 1px 2px rgba(60, 64, 67, 0.3), 0px 1px 3px 1px rgba(60, 64, 67, 0.15);\n",
              "    fill: #174EA6;\n",
              "  }\n",
              "\n",
              "  [theme=dark] .colab-df-quickchart {\n",
              "    background-color: #3B4455;\n",
              "    fill: #D2E3FC;\n",
              "  }\n",
              "\n",
              "  [theme=dark] .colab-df-quickchart:hover {\n",
              "    background-color: #434B5C;\n",
              "    box-shadow: 0px 1px 3px 1px rgba(0, 0, 0, 0.15);\n",
              "    filter: drop-shadow(0px 1px 2px rgba(0, 0, 0, 0.3));\n",
              "    fill: #FFFFFF;\n",
              "  }\n",
              "</style>\n",
              "\n",
              "  <script>\n",
              "    async function quickchart(key) {\n",
              "      const charts = await google.colab.kernel.invokeFunction(\n",
              "          'suggestCharts', [key], {});\n",
              "    }\n",
              "    (() => {\n",
              "      let quickchartButtonEl =\n",
              "        document.querySelector('#df-12de6034-f776-43f0-8348-2e9cd047aedc button');\n",
              "      quickchartButtonEl.style.display =\n",
              "        google.colab.kernel.accessAllowed ? 'block' : 'none';\n",
              "    })();\n",
              "  </script>\n",
              "</div>\n",
              "    </div>\n",
              "  </div>\n"
            ]
          },
          "metadata": {},
          "execution_count": 5
        }
      ]
    },
    {
      "cell_type": "code",
      "source": [
        "survey.isnull().sum()"
      ],
      "metadata": {
        "colab": {
          "base_uri": "https://localhost:8080/"
        },
        "id": "mCcG_XEpUDGy",
        "outputId": "31a580f4-a012-4597-ca78-c24e65c12329"
      },
      "execution_count": 6,
      "outputs": [
        {
          "output_type": "execute_result",
          "data": {
            "text/plain": [
              "response_id         0\n",
              "collection_date     0\n",
              "urban_rural         0\n",
              "education           0\n",
              "income              0\n",
              "Vote_Now            0\n",
              "Past_Vote           0\n",
              "CM_satisfaction     0\n",
              "MLA_satisfaction    0\n",
              "age                 0\n",
              "gender              0\n",
              "assembly_no         0\n",
              "category            0\n",
              "weight              0\n",
              "dtype: int64"
            ]
          },
          "metadata": {},
          "execution_count": 6
        }
      ]
    },
    {
      "cell_type": "code",
      "source": [
        "sns.heatmap(survey.isnull())\n",
        "plt.show()"
      ],
      "metadata": {
        "colab": {
          "base_uri": "https://localhost:8080/",
          "height": 540
        },
        "id": "qROZ2g5bUKv2",
        "outputId": "2e75ede2-4e5d-4dcf-8ab0-9cf023266d7a"
      },
      "execution_count": 7,
      "outputs": [
        {
          "output_type": "display_data",
          "data": {
            "text/plain": [
              "<Figure size 640x480 with 2 Axes>"
            ],
            "image/png": "[encoded data removed]"
          },
          "metadata": {}
        }
      ]
    },
    {
      "cell_type": "code",
      "source": [
        "survey['collection_date'].value_counts(ascending=True)"
      ],
      "metadata": {
        "colab": {
          "base_uri": "https://localhost:8080/"
        },
        "id": "N1gml6Zw7yCb",
        "outputId": "39b503ec-944c-41b0-a2ed-ed328c257df3"
      },
      "execution_count": 8,
      "outputs": [
        {
          "output_type": "execute_result",
          "data": {
            "text/plain": [
              "5-31-2017     557\n",
              "5-30-2017     582\n",
              "5-26-2017     598\n",
              "6-1-2017      607\n",
              "5-29-2017     620\n",
              "5-27-2017     665\n",
              "5-28-2017     761\n",
              "5-25-2017     998\n",
              "5-24-2017    1479\n",
              "Name: collection_date, dtype: int64"
            ]
          },
          "metadata": {},
          "execution_count": 8
        }
      ]
    },
    {
      "cell_type": "code",
      "source": [
        "survey['collection_date'].value_counts().mean()"
      ],
      "metadata": {
        "colab": {
          "base_uri": "https://localhost:8080/"
        },
        "id": "54h4dafa8N7n",
        "outputId": "da39ebf3-0909-4592-8f17-4177a0d52f80"
      },
      "execution_count": 9,
      "outputs": [
        {
          "output_type": "execute_result",
          "data": {
            "text/plain": [
              "763.0"
            ]
          },
          "metadata": {},
          "execution_count": 9
        }
      ]
    },
    {
      "cell_type": "code",
      "source": [
        "survey['age'].unique()"
      ],
      "metadata": {
        "colab": {
          "base_uri": "https://localhost:8080/"
        },
        "id": "yMv2z-unUXOq",
        "outputId": "debdca3c-9157-47e4-cb43-e96bfa17675c"
      },
      "execution_count": 10,
      "outputs": [
        {
          "output_type": "execute_result",
          "data": {
            "text/plain": [
              "array(['26', '34', '25', '36', '22', '38', '23', '42', '51', '29', '24',\n",
              "       '30', '39', '37', '19', '44', '53', '32', '21', '18', '20', '27',\n",
              "       '48', '28', '45', '74', '35', '31', '70', '40', '49', '46', '43',\n",
              "       '41', '33', '58', '24ko', '56', '50', '55', '54', '62', '60', '59',\n",
              "       '47', '61', '52', '66', '57', '67', '65', '71', '63', '64', '68',\n",
              "       '69', '99', '72', '75', '76'], dtype=object)"
            ]
          },
          "metadata": {},
          "execution_count": 10
        }
      ]
    },
    {
      "cell_type": "code",
      "source": [
        "len(survey['age'].unique())\n",
        "survey['age'].unique().size\n",
        "survey['age'].value_counts().size\n",
        "len(survey['age'].value_counts())\n",
        "survey['age'].nunique()"
      ],
      "metadata": {
        "colab": {
          "base_uri": "https://localhost:8080/"
        },
        "id": "rd3TmVsGVtYw",
        "outputId": "a27b50ea-5de6-456b-d150-9c1a4127c4cb"
      },
      "execution_count": 11,
      "outputs": [
        {
          "output_type": "execute_result",
          "data": {
            "text/plain": [
              "60"
            ]
          },
          "metadata": {},
          "execution_count": 11
        }
      ]
    },
    {
      "cell_type": "code",
      "source": [
        "# survey.replace({\"24ko\" : 24}, inplace=True)\n",
        "survey.replace(to_replace=\"24ko\", value=\"24\", inplace=True)"
      ],
      "metadata": {
        "id": "dZ9fERIJWm0P"
      },
      "execution_count": 12,
      "outputs": []
    },
    {
      "cell_type": "code",
      "source": [
        "survey['age'].value_counts()"
      ],
      "metadata": {
        "colab": {
          "base_uri": "https://localhost:8080/"
        },
        "id": "RmGuLDYiW3KL",
        "outputId": "87b976d3-1784-4e14-de4e-0d833acc0b58"
      },
      "execution_count": 13,
      "outputs": [
        {
          "output_type": "execute_result",
          "data": {
            "text/plain": [
              "25    598\n",
              "24    450\n",
              "30    440\n",
              "28    396\n",
              "22    392\n",
              "26    389\n",
              "27    360\n",
              "20    328\n",
              "23    317\n",
              "21    311\n",
              "32    263\n",
              "35    263\n",
              "29    239\n",
              "40    177\n",
              "34    173\n",
              "19    171\n",
              "31    159\n",
              "33    143\n",
              "38    135\n",
              "36    127\n",
              "18    125\n",
              "42    104\n",
              "37     90\n",
              "45     82\n",
              "43     72\n",
              "39     69\n",
              "50     60\n",
              "44     54\n",
              "41     54\n",
              "48     35\n",
              "47     34\n",
              "46     32\n",
              "49     27\n",
              "52     24\n",
              "51     23\n",
              "55     20\n",
              "60     15\n",
              "61     12\n",
              "53     12\n",
              "54     11\n",
              "57     10\n",
              "56      9\n",
              "58      9\n",
              "64      8\n",
              "67      7\n",
              "59      5\n",
              "65      5\n",
              "62      5\n",
              "66      4\n",
              "68      4\n",
              "63      4\n",
              "70      3\n",
              "71      2\n",
              "74      1\n",
              "69      1\n",
              "99      1\n",
              "72      1\n",
              "75      1\n",
              "76      1\n",
              "Name: age, dtype: int64"
            ]
          },
          "metadata": {},
          "execution_count": 13
        }
      ]
    },
    {
      "cell_type": "code",
      "source": [
        "survey['age'] = survey['age'].astype(int)"
      ],
      "metadata": {
        "id": "jeLYTTEFUhK5"
      },
      "execution_count": 14,
      "outputs": []
    },
    {
      "cell_type": "code",
      "source": [
        "survey[survey['age'] < 45].shape"
      ],
      "metadata": {
        "colab": {
          "base_uri": "https://localhost:8080/"
        },
        "id": "gDkeRkdoUo6e",
        "outputId": "56b721d2-aa69-40cc-a0e9-ff74c265009c"
      },
      "execution_count": 15,
      "outputs": [
        {
          "output_type": "execute_result",
          "data": {
            "text/plain": [
              "(6399, 14)"
            ]
          },
          "metadata": {},
          "execution_count": 15
        }
      ]
    },
    {
      "cell_type": "code",
      "source": [
        "len(survey[survey['age'] < 45]) / survey['age'].size * 100"
      ],
      "metadata": {
        "colab": {
          "base_uri": "https://localhost:8080/"
        },
        "id": "zbTY8GofXFLK",
        "outputId": "776697f9-1ccc-4167-c2ea-7d199d6dd99e"
      },
      "execution_count": 16,
      "outputs": [
        {
          "output_type": "execute_result",
          "data": {
            "text/plain": [
              "93.18479685452162"
            ]
          },
          "metadata": {},
          "execution_count": 16
        }
      ]
    },
    {
      "cell_type": "code",
      "source": [
        "df = survey.copy()"
      ],
      "metadata": {
        "id": "uTlTVKEtYE43"
      },
      "execution_count": 17,
      "outputs": []
    },
    {
      "cell_type": "code",
      "source": [
        "df.insert(10, 'age_group', survey['age'])"
      ],
      "metadata": {
        "id": "HpFAa25rZCbq"
      },
      "execution_count": 18,
      "outputs": []
    },
    {
      "cell_type": "code",
      "source": [
        "df1 = df[(df['age_group'] >= 18) & (df['age_group'] < 25)]"
      ],
      "metadata": {
        "id": "pMVzvIqYh3Yh"
      },
      "execution_count": 19,
      "outputs": []
    },
    {
      "cell_type": "code",
      "source": [
        "df1['age_group'].unique()"
      ],
      "metadata": {
        "colab": {
          "base_uri": "https://localhost:8080/"
        },
        "id": "H5VZXCP8h7JT",
        "outputId": "5d9692ea-5423-4204-dbc2-430e730e690c"
      },
      "execution_count": 20,
      "outputs": [
        {
          "output_type": "execute_result",
          "data": {
            "text/plain": [
              "array([22, 23, 24, 19, 21, 18, 20])"
            ]
          },
          "metadata": {},
          "execution_count": 20
        }
      ]
    },
    {
      "cell_type": "code",
      "source": [
        "df1['age_group'] = '18-25'"
      ],
      "metadata": {
        "colab": {
          "base_uri": "https://localhost:8080/"
        },
        "id": "HgLhWmoPmwli",
        "outputId": "600b3667-34bc-4730-e09e-9d57ab27d7e6"
      },
      "execution_count": 21,
      "outputs": [
        {
          "output_type": "stream",
          "name": "stderr",
          "text": [
            "<ipython-input-21-3bfaab5ac91c>:1: SettingWithCopyWarning: \n",
            "A value is trying to be set on a copy of a slice from a DataFrame.\n",
            "Try using .loc[row_indexer,col_indexer] = value instead\n",
            "\n",
            "See the caveats in the documentation: https://pandas.pydata.org/pandas-docs/stable/user_guide/indexing.html#returning-a-view-versus-a-copy\n",
            "  df1['age_group'] = '18-25'\n"
          ]
        }
      ]
    },
    {
      "cell_type": "code",
      "source": [
        "df2 = df[(df['age_group'] >= 25) & (df['age_group'] < 40)]"
      ],
      "metadata": {
        "id": "00Jjp1AHnBNZ"
      },
      "execution_count": 22,
      "outputs": []
    },
    {
      "cell_type": "code",
      "source": [
        "df2['age_group'].unique()"
      ],
      "metadata": {
        "colab": {
          "base_uri": "https://localhost:8080/"
        },
        "id": "MhycqczYnnbn",
        "outputId": "9491b0ff-5fbb-41bb-eb54-14de38ddec8d"
      },
      "execution_count": 23,
      "outputs": [
        {
          "output_type": "execute_result",
          "data": {
            "text/plain": [
              "array([26, 34, 25, 36, 38, 29, 30, 39, 37, 32, 27, 28, 35, 31, 33])"
            ]
          },
          "metadata": {},
          "execution_count": 23
        }
      ]
    },
    {
      "cell_type": "code",
      "source": [
        "df2['age_group'] = '25-40'"
      ],
      "metadata": {
        "colab": {
          "base_uri": "https://localhost:8080/"
        },
        "id": "rNuJWpO_npwo",
        "outputId": "6868a884-ca44-4b2b-b186-941a68b9edc6"
      },
      "execution_count": 24,
      "outputs": [
        {
          "output_type": "stream",
          "name": "stderr",
          "text": [
            "<ipython-input-24-51749148ae3a>:1: SettingWithCopyWarning: \n",
            "A value is trying to be set on a copy of a slice from a DataFrame.\n",
            "Try using .loc[row_indexer,col_indexer] = value instead\n",
            "\n",
            "See the caveats in the documentation: https://pandas.pydata.org/pandas-docs/stable/user_guide/indexing.html#returning-a-view-versus-a-copy\n",
            "  df2['age_group'] = '25-40'\n"
          ]
        }
      ]
    },
    {
      "cell_type": "code",
      "source": [
        "df3 = df[(df['age_group'] >= 40) & (df['age_group'] < 55)]"
      ],
      "metadata": {
        "id": "cqsOysPOntLV"
      },
      "execution_count": 25,
      "outputs": []
    },
    {
      "cell_type": "code",
      "source": [
        "df3['age_group'].unique()"
      ],
      "metadata": {
        "colab": {
          "base_uri": "https://localhost:8080/"
        },
        "id": "lwppzhRFnyrk",
        "outputId": "5fce93e4-c3ed-46ec-f442-7401f1b78ab2"
      },
      "execution_count": 26,
      "outputs": [
        {
          "output_type": "execute_result",
          "data": {
            "text/plain": [
              "array([42, 51, 44, 53, 48, 45, 40, 49, 46, 43, 41, 50, 54, 47, 52])"
            ]
          },
          "metadata": {},
          "execution_count": 26
        }
      ]
    },
    {
      "cell_type": "code",
      "source": [
        "df3['age_group'] = '40-55'"
      ],
      "metadata": {
        "colab": {
          "base_uri": "https://localhost:8080/"
        },
        "id": "dSxBFPctn1o_",
        "outputId": "f0b0c4da-1da9-4cb3-8a08-14705d6ad222"
      },
      "execution_count": 27,
      "outputs": [
        {
          "output_type": "stream",
          "name": "stderr",
          "text": [
            "<ipython-input-27-bbaa45be74b6>:1: SettingWithCopyWarning: \n",
            "A value is trying to be set on a copy of a slice from a DataFrame.\n",
            "Try using .loc[row_indexer,col_indexer] = value instead\n",
            "\n",
            "See the caveats in the documentation: https://pandas.pydata.org/pandas-docs/stable/user_guide/indexing.html#returning-a-view-versus-a-copy\n",
            "  df3['age_group'] = '40-55'\n"
          ]
        }
      ]
    },
    {
      "cell_type": "code",
      "source": [
        "df4 = df[df['age_group'] >= 55]"
      ],
      "metadata": {
        "id": "QX-IeNRRn5qM"
      },
      "execution_count": 28,
      "outputs": []
    },
    {
      "cell_type": "code",
      "source": [
        "df4['age_group'].unique()"
      ],
      "metadata": {
        "colab": {
          "base_uri": "https://localhost:8080/"
        },
        "id": "i45lP-SGoFRP",
        "outputId": "fdc28ed6-dbd3-41c9-a48f-4c312e5fbd53"
      },
      "execution_count": 29,
      "outputs": [
        {
          "output_type": "execute_result",
          "data": {
            "text/plain": [
              "array([74, 70, 58, 56, 55, 62, 60, 59, 61, 66, 57, 67, 65, 71, 63, 64, 68,\n",
              "       69, 99, 72, 75, 76])"
            ]
          },
          "metadata": {},
          "execution_count": 29
        }
      ]
    },
    {
      "cell_type": "code",
      "source": [
        "df4['age_group'] = '55+'"
      ],
      "metadata": {
        "colab": {
          "base_uri": "https://localhost:8080/"
        },
        "id": "Wb4OSNs3oH5E",
        "outputId": "6a94afea-b70f-4a45-f0a5-b739fb50e08b"
      },
      "execution_count": 30,
      "outputs": [
        {
          "output_type": "stream",
          "name": "stderr",
          "text": [
            "<ipython-input-30-f56045c0f8f7>:1: SettingWithCopyWarning: \n",
            "A value is trying to be set on a copy of a slice from a DataFrame.\n",
            "Try using .loc[row_indexer,col_indexer] = value instead\n",
            "\n",
            "See the caveats in the documentation: https://pandas.pydata.org/pandas-docs/stable/user_guide/indexing.html#returning-a-view-versus-a-copy\n",
            "  df4['age_group'] = '55+'\n"
          ]
        }
      ]
    },
    {
      "cell_type": "code",
      "source": [
        "df = pd.concat([df1, df2, df3, df4])"
      ],
      "metadata": {
        "id": "1kxlPa9DoN0W"
      },
      "execution_count": 31,
      "outputs": []
    },
    {
      "cell_type": "code",
      "source": [
        "df.head()"
      ],
      "metadata": {
        "colab": {
          "base_uri": "https://localhost:8080/",
          "height": 206
        },
        "id": "0azhsWtoocik",
        "outputId": "bee48b87-96b2-46fd-b85c-f5d787379c7d"
      },
      "execution_count": 32,
      "outputs": [
        {
          "output_type": "execute_result",
          "data": {
            "text/plain": [
              "    response_id collection_date urban_rural          education  \\\n",
              "4             5       5-24-2017       Rural           Graduate   \n",
              "8             9       5-24-2017       Urban          12th Pass   \n",
              "14           15       5-24-2017       Rural           Graduate   \n",
              "16           17       5-24-2017       Rural  Post - Graduation   \n",
              "18           19       5-24-2017       Rural           Graduate   \n",
              "\n",
              "                 income Vote_Now     Past_Vote        CM_satisfaction  \\\n",
              "4   ₹ 50,000 - ₹ 80,000    JD(U)  Did not vote        Fully Satisfied   \n",
              "8     BPL/Below ₹ 5,000      BJP           BJP        Fully Satisfied   \n",
              "14   ₹ 1,50,000 & above      BJP           BJP        Fully Satisfied   \n",
              "16    BPL/Below ₹ 5,000      RJD           RJD     Fully Dissatisfied   \n",
              "18  ₹ 30,000 - ₹ 50,000   JAP(L)         JD(U)  Somewhat Dissatisfied   \n",
              "\n",
              "      MLA_satisfaction  age age_group gender  assembly_no category    weight  \n",
              "4      Fully Satisfied   22     18-25   Male          176       BC  0.333505  \n",
              "8   Fully Dissatisfied   23     18-25   Male          181      Gen  0.226477  \n",
              "14  Fully Dissatisfied   24     18-25   Male          199      Gen  0.226477  \n",
              "16  Somewhat Satisfied   24     18-25   Male          194       BC  0.769738  \n",
              "18  Fully Dissatisfied   23     18-25   Male          188       BC  0.040519  "
            ],
            "text/html": [
              "\n",
              "  <div id=\"df-37b41c27-dba9-4263-82ec-164523e712c3\" class=\"colab-df-container\">\n",
              "    <div>\n",
              "<style scoped>\n",
              "    .dataframe tbody tr th:only-of-type {\n",
              "        vertical-align: middle;\n",
              "    }\n",
              "\n",
              "    .dataframe tbody tr th {\n",
              "        vertical-align: top;\n",
              "    }\n",
              "\n",
              "    .dataframe thead th {\n",
              "        text-align: right;\n",
              "    }\n",
              "</style>\n",
              "<table border=\"1\" class=\"dataframe\">\n",
              "  <thead>\n",
              "    <tr style=\"text-align: right;\">\n",
              "      <th></th>\n",
              "      <th>response_id</th>\n",
              "      <th>collection_date</th>\n",
              "      <th>urban_rural</th>\n",
              "      <th>education</th>\n",
              "      <th>income</th>\n",
              "      <th>Vote_Now</th>\n",
              "      <th>Past_Vote</th>\n",
              "      <th>CM_satisfaction</th>\n",
              "      <th>MLA_satisfaction</th>\n",
              "      <th>age</th>\n",
              "      <th>age_group</th>\n",
              "      <th>gender</th>\n",
              "      <th>assembly_no</th>\n",
              "      <th>category</th>\n",
              "      <th>weight</th>\n",
              "    </tr>\n",
              "  </thead>\n",
              "  <tbody>\n",
              "    <tr>\n",
              "      <th>4</th>\n",
              "      <td>5</td>\n",
              "      <td>5-24-2017</td>\n",
              "      <td>Rural</td>\n",
              "      <td>Graduate</td>\n",
              "      <td>₹ 50,000 - ₹ 80,000</td>\n",
              "      <td>JD(U)</td>\n",
              "      <td>Did not vote</td>\n",
              "      <td>Fully Satisfied</td>\n",
              "      <td>Fully Satisfied</td>\n",
              "      <td>22</td>\n",
              "      <td>18-25</td>\n",
              "      <td>Male</td>\n",
              "      <td>176</td>\n",
              "      <td>BC</td>\n",
              "      <td>0.333505</td>\n",
              "    </tr>\n",
              "    <tr>\n",
              "      <th>8</th>\n",
              "      <td>9</td>\n",
              "      <td>5-24-2017</td>\n",
              "      <td>Urban</td>\n",
              "      <td>12th Pass</td>\n",
              "      <td>BPL/Below ₹ 5,000</td>\n",
              "      <td>BJP</td>\n",
              "      <td>BJP</td>\n",
              "      <td>Fully Satisfied</td>\n",
              "      <td>Fully Dissatisfied</td>\n",
              "      <td>23</td>\n",
              "      <td>18-25</td>\n",
              "      <td>Male</td>\n",
              "      <td>181</td>\n",
              "      <td>Gen</td>\n",
              "      <td>0.226477</td>\n",
              "    </tr>\n",
              "    <tr>\n",
              "      <th>14</th>\n",
              "      <td>15</td>\n",
              "      <td>5-24-2017</td>\n",
              "      <td>Rural</td>\n",
              "      <td>Graduate</td>\n",
              "      <td>₹ 1,50,000 &amp; above</td>\n",
              "      <td>BJP</td>\n",
              "      <td>BJP</td>\n",
              "      <td>Fully Satisfied</td>\n",
              "      <td>Fully Dissatisfied</td>\n",
              "      <td>24</td>\n",
              "      <td>18-25</td>\n",
              "      <td>Male</td>\n",
              "      <td>199</td>\n",
              "      <td>Gen</td>\n",
              "      <td>0.226477</td>\n",
              "    </tr>\n",
              "    <tr>\n",
              "      <th>16</th>\n",
              "      <td>17</td>\n",
              "      <td>5-24-2017</td>\n",
              "      <td>Rural</td>\n",
              "      <td>Post - Graduation</td>\n",
              "      <td>BPL/Below ₹ 5,000</td>\n",
              "      <td>RJD</td>\n",
              "      <td>RJD</td>\n",
              "      <td>Fully Dissatisfied</td>\n",
              "      <td>Somewhat Satisfied</td>\n",
              "      <td>24</td>\n",
              "      <td>18-25</td>\n",
              "      <td>Male</td>\n",
              "      <td>194</td>\n",
              "      <td>BC</td>\n",
              "      <td>0.769738</td>\n",
              "    </tr>\n",
              "    <tr>\n",
              "      <th>18</th>\n",
              "      <td>19</td>\n",
              "      <td>5-24-2017</td>\n",
              "      <td>Rural</td>\n",
              "      <td>Graduate</td>\n",
              "      <td>₹ 30,000 - ₹ 50,000</td>\n",
              "      <td>JAP(L)</td>\n",
              "      <td>JD(U)</td>\n",
              "      <td>Somewhat Dissatisfied</td>\n",
              "      <td>Fully Dissatisfied</td>\n",
              "      <td>23</td>\n",
              "      <td>18-25</td>\n",
              "      <td>Male</td>\n",
              "      <td>188</td>\n",
              "      <td>BC</td>\n",
              "      <td>0.040519</td>\n",
              "    </tr>\n",
              "  </tbody>\n",
              "</table>\n",
              "</div>\n",
              "    <div class=\"colab-df-buttons\">\n",
              "\n",
              "  <div class=\"colab-df-container\">\n",
              "    <button class=\"colab-df-convert\" onclick=\"convertToInteractive('df-37b41c27-dba9-4263-82ec-164523e712c3')\"\n",
              "            title=\"Convert this dataframe to an interactive table.\"\n",
              "            style=\"display:none;\">\n",
              "\n",
              "  <svg xmlns=\"http://www.w3.org/2000/svg\" height=\"24px\" viewBox=\"0 -960 960 960\">\n",
              "    <path d=\"M120-120v-720h720v720H120Zm60-500h600v-160H180v160Zm220 220h160v-160H400v160Zm0 220h160v-160H400v160ZM180-400h160v-160H180v160Zm440 0h160v-160H620v160ZM180-180h160v-160H180v160Zm440 0h160v-160H620v160Z\"/>\n",
              "  </svg>\n",
              "    </button>\n",
              "\n",
              "  <style>\n",
              "    .colab-df-container {\n",
              "      display:flex;\n",
              "      gap: 12px;\n",
              "    }\n",
              "\n",
              "    .colab-df-convert {\n",
              "      background-color: #E8F0FE;\n",
              "      border: none;\n",
              "      border-radius: 50%;\n",
              "      cursor: pointer;\n",
              "      display: none;\n",
              "      fill: #1967D2;\n",
              "      height: 32px;\n",
              "      padding: 0 0 0 0;\n",
              "      width: 32px;\n",
              "    }\n",
              "\n",
              "    .colab-df-convert:hover {\n",
              "      background-color: #E2EBFA;\n",
              "      box-shadow: 0px 1px 2px rgba(60, 64, 67, 0.3), 0px 1px 3px 1px rgba(60, 64, 67, 0.15);\n",
              "      fill: #174EA6;\n",
              "    }\n",
              "\n",
              "    .colab-df-buttons div {\n",
              "      margin-bottom: 4px;\n",
              "    }\n",
              "\n",
              "    [theme=dark] .colab-df-convert {\n",
              "      background-color: #3B4455;\n",
              "      fill: #D2E3FC;\n",
              "    }\n",
              "\n",
              "    [theme=dark] .colab-df-convert:hover {\n",
              "      background-color: #434B5C;\n",
              "      box-shadow: 0px 1px 3px 1px rgba(0, 0, 0, 0.15);\n",
              "      filter: drop-shadow(0px 1px 2px rgba(0, 0, 0, 0.3));\n",
              "      fill: #FFFFFF;\n",
              "    }\n",
              "  </style>\n",
              "\n",
              "    <script>\n",
              "      const buttonEl =\n",
              "        document.querySelector('#df-37b41c27-dba9-4263-82ec-164523e712c3 button.colab-df-convert');\n",
              "      buttonEl.style.display =\n",
              "        google.colab.kernel.accessAllowed ? 'block' : 'none';\n",
              "\n",
              "      async function convertToInteractive(key) {\n",
              "        const element = document.querySelector('#df-37b41c27-dba9-4263-82ec-164523e712c3');\n",
              "        const dataTable =\n",
              "          await google.colab.kernel.invokeFunction('convertToInteractive',\n",
              "                                                    [key], {});\n",
              "        if (!dataTable) return;\n",
              "\n",
              "        const docLinkHtml = 'Like what you see? Visit the ' +\n",
              "          '<a target=\"_blank\" href=https://colab.research.google.com/notebooks/data_table.ipynb>data table notebook</a>'\n",
              "          + ' to learn more about interactive tables.';\n",
              "        element.innerHTML = '';\n",
              "        dataTable['output_type'] = 'display_data';\n",
              "        await google.colab.output.renderOutput(dataTable, element);\n",
              "        const docLink = document.createElement('div');\n",
              "        docLink.innerHTML = docLinkHtml;\n",
              "        element.appendChild(docLink);\n",
              "      }\n",
              "    </script>\n",
              "  </div>\n",
              "\n",
              "\n",
              "<div id=\"df-4151ea99-c1a4-4a74-9669-cd25f434153a\">\n",
              "  <button class=\"colab-df-quickchart\" onclick=\"quickchart('df-4151ea99-c1a4-4a74-9669-cd25f434153a')\"\n",
              "            title=\"Suggest charts.\"\n",
              "            style=\"display:none;\">\n",
              "\n",
              "<svg xmlns=\"http://www.w3.org/2000/svg\" height=\"24px\"viewBox=\"0 0 24 24\"\n",
              "     width=\"24px\">\n",
              "    <g>\n",
              "        <path d=\"M19 3H5c-1.1 0-2 .9-2 2v14c0 1.1.9 2 2 2h14c1.1 0 2-.9 2-2V5c0-1.1-.9-2-2-2zM9 17H7v-7h2v7zm4 0h-2V7h2v10zm4 0h-2v-4h2v4z\"/>\n",
              "    </g>\n",
              "</svg>\n",
              "  </button>\n",
              "\n",
              "<style>\n",
              "  .colab-df-quickchart {\n",
              "    background-color: #E8F0FE;\n",
              "    border: none;\n",
              "    border-radius: 50%;\n",
              "    cursor: pointer;\n",
              "    display: none;\n",
              "    fill: #1967D2;\n",
              "    height: 32px;\n",
              "    padding: 0 0 0 0;\n",
              "    width: 32px;\n",
              "  }\n",
              "\n",
              "  .colab-df-quickchart:hover {\n",
              "    background-color: #E2EBFA;\n",
              "    box-shadow: 0px 1px 2px rgba(60, 64, 67, 0.3), 0px 1px 3px 1px rgba(60, 64, 67, 0.15);\n",
              "    fill: #174EA6;\n",
              "  }\n",
              "\n",
              "  [theme=dark] .colab-df-quickchart {\n",
              "    background-color: #3B4455;\n",
              "    fill: #D2E3FC;\n",
              "  }\n",
              "\n",
              "  [theme=dark] .colab-df-quickchart:hover {\n",
              "    background-color: #434B5C;\n",
              "    box-shadow: 0px 1px 3px 1px rgba(0, 0, 0, 0.15);\n",
              "    filter: drop-shadow(0px 1px 2px rgba(0, 0, 0, 0.3));\n",
              "    fill: #FFFFFF;\n",
              "  }\n",
              "</style>\n",
              "\n",
              "  <script>\n",
              "    async function quickchart(key) {\n",
              "      const charts = await google.colab.kernel.invokeFunction(\n",
              "          'suggestCharts', [key], {});\n",
              "    }\n",
              "    (() => {\n",
              "      let quickchartButtonEl =\n",
              "        document.querySelector('#df-4151ea99-c1a4-4a74-9669-cd25f434153a button');\n",
              "      quickchartButtonEl.style.display =\n",
              "        google.colab.kernel.accessAllowed ? 'block' : 'none';\n",
              "    })();\n",
              "  </script>\n",
              "</div>\n",
              "    </div>\n",
              "  </div>\n"
            ]
          },
          "metadata": {},
          "execution_count": 32
        }
      ]
    },
    {
      "cell_type": "code",
      "source": [
        "df['age_group'].value_counts()"
      ],
      "metadata": {
        "colab": {
          "base_uri": "https://localhost:8080/"
        },
        "id": "4JpYzcfHoeLL",
        "outputId": "bc731fc8-9cda-4523-bae9-5195c3f9ae47"
      },
      "execution_count": 33,
      "outputs": [
        {
          "output_type": "execute_result",
          "data": {
            "text/plain": [
              "25-40    3844\n",
              "18-25    2094\n",
              "40-55     801\n",
              "55+       128\n",
              "Name: age_group, dtype: int64"
            ]
          },
          "metadata": {},
          "execution_count": 33
        }
      ]
    },
    {
      "cell_type": "code",
      "source": [
        "df[(df['Vote_Now'] == 'RJD') & (df['Past_Vote'] == 'RJD')]"
      ],
      "metadata": {
        "colab": {
          "base_uri": "https://localhost:8080/",
          "height": 423
        },
        "id": "8KIakHXtrtuL",
        "outputId": "c60bf802-86c7-4115-c649-58d00ef5dd94"
      },
      "execution_count": 34,
      "outputs": [
        {
          "output_type": "execute_result",
          "data": {
            "text/plain": [
              "      response_id collection_date urban_rural          education  \\\n",
              "16             17       5-24-2017       Rural  Post - Graduation   \n",
              "38             39       5-24-2017       Urban           Graduate   \n",
              "47             48       5-24-2017       Urban           Graduate   \n",
              "85             86       5-24-2017       Rural          12th Pass   \n",
              "120           121       5-24-2017       Rural           Graduate   \n",
              "...           ...             ...         ...                ...   \n",
              "4753         4754       5-26-2017       Rural  Post - Graduation   \n",
              "5493         5494       5-26-2017       Urban           Graduate   \n",
              "5687         5688       5-29-2017       Urban           Graduate   \n",
              "5830         5831       5-30-2017       Urban           Graduate   \n",
              "6151         6152       5-24-2017       Rural           Graduate   \n",
              "\n",
              "                   income Vote_Now Past_Vote        CM_satisfaction  \\\n",
              "16      BPL/Below ₹ 5,000      RJD       RJD     Fully Dissatisfied   \n",
              "38      BPL/Below ₹ 5,000      RJD       RJD              Can’t say   \n",
              "47      BPL/Below ₹ 5,000      RJD       RJD     Fully Dissatisfied   \n",
              "85      BPL/Below ₹ 5,000      RJD       RJD     Fully Dissatisfied   \n",
              "120    ₹ 1,50,000 & above      RJD       RJD        Fully Satisfied   \n",
              "...                   ...      ...       ...                    ...   \n",
              "4753  ₹ 30,000 - ₹ 50,000      RJD       RJD     Fully Dissatisfied   \n",
              "5493  ₹ 30,000 - ₹ 50,000      RJD       RJD     Fully Dissatisfied   \n",
              "5687  ₹ 10,000 - ₹ 20,000      RJD       RJD     Fully Dissatisfied   \n",
              "5830  ₹ 50,000 - ₹ 80,000      RJD       RJD  Somewhat Dissatisfied   \n",
              "6151    BPL/Below ₹ 5,000      RJD       RJD              Can’t say   \n",
              "\n",
              "        MLA_satisfaction  age age_group gender  assembly_no category  \\\n",
              "16    Somewhat Satisfied   24     18-25   Male          194       BC   \n",
              "38             Can’t say   22     18-25   Male          181       SC   \n",
              "47    Fully Dissatisfied   20     18-25   Male          172       BC   \n",
              "85    Somewhat Satisfied   22     18-25   Male          187       BC   \n",
              "120      Fully Satisfied   23     18-25   Male          187       BC   \n",
              "...                  ...  ...       ...    ...          ...      ...   \n",
              "4753  Fully Dissatisfied   61       55+   Male           16       BC   \n",
              "5493  Fully Dissatisfied   61       55+   Male          156      Gen   \n",
              "5687  Somewhat Satisfied   62       55+   Male          156      EBC   \n",
              "5830  Fully Dissatisfied   59       55+   Male           48      Gen   \n",
              "6151           Can’t say   55       55+   Male          165      Gen   \n",
              "\n",
              "         weight  \n",
              "16     0.769738  \n",
              "38     1.596987  \n",
              "47     1.188838  \n",
              "85     0.586158  \n",
              "120    0.891022  \n",
              "...         ...  \n",
              "4753   4.650280  \n",
              "5493   1.044473  \n",
              "5687  10.814150  \n",
              "5830   2.359308  \n",
              "6151   8.015396  \n",
              "\n",
              "[811 rows x 15 columns]"
            ],
            "text/html": [
              "\n",
              "  <div id=\"df-dee67fd8-b100-4094-bc64-692c172d57f7\" class=\"colab-df-container\">\n",
              "    <div>\n",
              "<style scoped>\n",
              "    .dataframe tbody tr th:only-of-type {\n",
              "        vertical-align: middle;\n",
              "    }\n",
              "\n",
              "    .dataframe tbody tr th {\n",
              "        vertical-align: top;\n",
              "    }\n",
              "\n",
              "    .dataframe thead th {\n",
              "        text-align: right;\n",
              "    }\n",
              "</style>\n",
              "<table border=\"1\" class=\"dataframe\">\n",
              "  <thead>\n",
              "    <tr style=\"text-align: right;\">\n",
              "      <th></th>\n",
              "      <th>response_id</th>\n",
              "      <th>collection_date</th>\n",
              "      <th>urban_rural</th>\n",
              "      <th>education</th>\n",
              "      <th>income</th>\n",
              "      <th>Vote_Now</th>\n",
              "      <th>Past_Vote</th>\n",
              "      <th>CM_satisfaction</th>\n",
              "      <th>MLA_satisfaction</th>\n",
              "      <th>age</th>\n",
              "      <th>age_group</th>\n",
              "      <th>gender</th>\n",
              "      <th>assembly_no</th>\n",
              "      <th>category</th>\n",
              "      <th>weight</th>\n",
              "    </tr>\n",
              "  </thead>\n",
              "  <tbody>\n",
              "    <tr>\n",
              "      <th>16</th>\n",
              "      <td>17</td>\n",
              "      <td>5-24-2017</td>\n",
              "      <td>Rural</td>\n",
              "      <td>Post - Graduation</td>\n",
              "      <td>BPL/Below ₹ 5,000</td>\n",
              "      <td>RJD</td>\n",
              "      <td>RJD</td>\n",
              "      <td>Fully Dissatisfied</td>\n",
              "      <td>Somewhat Satisfied</td>\n",
              "      <td>24</td>\n",
              "      <td>18-25</td>\n",
              "      <td>Male</td>\n",
              "      <td>194</td>\n",
              "      <td>BC</td>\n",
              "      <td>0.769738</td>\n",
              "    </tr>\n",
              "    <tr>\n",
              "      <th>38</th>\n",
              "      <td>39</td>\n",
              "      <td>5-24-2017</td>\n",
              "      <td>Urban</td>\n",
              "      <td>Graduate</td>\n",
              "      <td>BPL/Below ₹ 5,000</td>\n",
              "      <td>RJD</td>\n",
              "      <td>RJD</td>\n",
              "      <td>Can’t say</td>\n",
              "      <td>Can’t say</td>\n",
              "      <td>22</td>\n",
              "      <td>18-25</td>\n",
              "      <td>Male</td>\n",
              "      <td>181</td>\n",
              "      <td>SC</td>\n",
              "      <td>1.596987</td>\n",
              "    </tr>\n",
              "    <tr>\n",
              "      <th>47</th>\n",
              "      <td>48</td>\n",
              "      <td>5-24-2017</td>\n",
              "      <td>Urban</td>\n",
              "      <td>Graduate</td>\n",
              "      <td>BPL/Below ₹ 5,000</td>\n",
              "      <td>RJD</td>\n",
              "      <td>RJD</td>\n",
              "      <td>Fully Dissatisfied</td>\n",
              "      <td>Fully Dissatisfied</td>\n",
              "      <td>20</td>\n",
              "      <td>18-25</td>\n",
              "      <td>Male</td>\n",
              "      <td>172</td>\n",
              "      <td>BC</td>\n",
              "      <td>1.188838</td>\n",
              "    </tr>\n",
              "    <tr>\n",
              "      <th>85</th>\n",
              "      <td>86</td>\n",
              "      <td>5-24-2017</td>\n",
              "      <td>Rural</td>\n",
              "      <td>12th Pass</td>\n",
              "      <td>BPL/Below ₹ 5,000</td>\n",
              "      <td>RJD</td>\n",
              "      <td>RJD</td>\n",
              "      <td>Fully Dissatisfied</td>\n",
              "      <td>Somewhat Satisfied</td>\n",
              "      <td>22</td>\n",
              "      <td>18-25</td>\n",
              "      <td>Male</td>\n",
              "      <td>187</td>\n",
              "      <td>BC</td>\n",
              "      <td>0.586158</td>\n",
              "    </tr>\n",
              "    <tr>\n",
              "      <th>120</th>\n",
              "      <td>121</td>\n",
              "      <td>5-24-2017</td>\n",
              "      <td>Rural</td>\n",
              "      <td>Graduate</td>\n",
              "      <td>₹ 1,50,000 &amp; above</td>\n",
              "      <td>RJD</td>\n",
              "      <td>RJD</td>\n",
              "      <td>Fully Satisfied</td>\n",
              "      <td>Fully Satisfied</td>\n",
              "      <td>23</td>\n",
              "      <td>18-25</td>\n",
              "      <td>Male</td>\n",
              "      <td>187</td>\n",
              "      <td>BC</td>\n",
              "      <td>0.891022</td>\n",
              "    </tr>\n",
              "    <tr>\n",
              "      <th>...</th>\n",
              "      <td>...</td>\n",
              "      <td>...</td>\n",
              "      <td>...</td>\n",
              "      <td>...</td>\n",
              "      <td>...</td>\n",
              "      <td>...</td>\n",
              "      <td>...</td>\n",
              "      <td>...</td>\n",
              "      <td>...</td>\n",
              "      <td>...</td>\n",
              "      <td>...</td>\n",
              "      <td>...</td>\n",
              "      <td>...</td>\n",
              "      <td>...</td>\n",
              "      <td>...</td>\n",
              "    </tr>\n",
              "    <tr>\n",
              "      <th>4753</th>\n",
              "      <td>4754</td>\n",
              "      <td>5-26-2017</td>\n",
              "      <td>Rural</td>\n",
              "      <td>Post - Graduation</td>\n",
              "      <td>₹ 30,000 - ₹ 50,000</td>\n",
              "      <td>RJD</td>\n",
              "      <td>RJD</td>\n",
              "      <td>Fully Dissatisfied</td>\n",
              "      <td>Fully Dissatisfied</td>\n",
              "      <td>61</td>\n",
              "      <td>55+</td>\n",
              "      <td>Male</td>\n",
              "      <td>16</td>\n",
              "      <td>BC</td>\n",
              "      <td>4.650280</td>\n",
              "    </tr>\n",
              "    <tr>\n",
              "      <th>5493</th>\n",
              "      <td>5494</td>\n",
              "      <td>5-26-2017</td>\n",
              "      <td>Urban</td>\n",
              "      <td>Graduate</td>\n",
              "      <td>₹ 30,000 - ₹ 50,000</td>\n",
              "      <td>RJD</td>\n",
              "      <td>RJD</td>\n",
              "      <td>Fully Dissatisfied</td>\n",
              "      <td>Fully Dissatisfied</td>\n",
              "      <td>61</td>\n",
              "      <td>55+</td>\n",
              "      <td>Male</td>\n",
              "      <td>156</td>\n",
              "      <td>Gen</td>\n",
              "      <td>1.044473</td>\n",
              "    </tr>\n",
              "    <tr>\n",
              "      <th>5687</th>\n",
              "      <td>5688</td>\n",
              "      <td>5-29-2017</td>\n",
              "      <td>Urban</td>\n",
              "      <td>Graduate</td>\n",
              "      <td>₹ 10,000 - ₹ 20,000</td>\n",
              "      <td>RJD</td>\n",
              "      <td>RJD</td>\n",
              "      <td>Fully Dissatisfied</td>\n",
              "      <td>Somewhat Satisfied</td>\n",
              "      <td>62</td>\n",
              "      <td>55+</td>\n",
              "      <td>Male</td>\n",
              "      <td>156</td>\n",
              "      <td>EBC</td>\n",
              "      <td>10.814150</td>\n",
              "    </tr>\n",
              "    <tr>\n",
              "      <th>5830</th>\n",
              "      <td>5831</td>\n",
              "      <td>5-30-2017</td>\n",
              "      <td>Urban</td>\n",
              "      <td>Graduate</td>\n",
              "      <td>₹ 50,000 - ₹ 80,000</td>\n",
              "      <td>RJD</td>\n",
              "      <td>RJD</td>\n",
              "      <td>Somewhat Dissatisfied</td>\n",
              "      <td>Fully Dissatisfied</td>\n",
              "      <td>59</td>\n",
              "      <td>55+</td>\n",
              "      <td>Male</td>\n",
              "      <td>48</td>\n",
              "      <td>Gen</td>\n",
              "      <td>2.359308</td>\n",
              "    </tr>\n",
              "    <tr>\n",
              "      <th>6151</th>\n",
              "      <td>6152</td>\n",
              "      <td>5-24-2017</td>\n",
              "      <td>Rural</td>\n",
              "      <td>Graduate</td>\n",
              "      <td>BPL/Below ₹ 5,000</td>\n",
              "      <td>RJD</td>\n",
              "      <td>RJD</td>\n",
              "      <td>Can’t say</td>\n",
              "      <td>Can’t say</td>\n",
              "      <td>55</td>\n",
              "      <td>55+</td>\n",
              "      <td>Male</td>\n",
              "      <td>165</td>\n",
              "      <td>Gen</td>\n",
              "      <td>8.015396</td>\n",
              "    </tr>\n",
              "  </tbody>\n",
              "</table>\n",
              "<p>811 rows × 15 columns</p>\n",
              "</div>\n",
              "    <div class=\"colab-df-buttons\">\n",
              "\n",
              "  <div class=\"colab-df-container\">\n",
              "    <button class=\"colab-df-convert\" onclick=\"convertToInteractive('df-dee67fd8-b100-4094-bc64-692c172d57f7')\"\n",
              "            title=\"Convert this dataframe to an interactive table.\"\n",
              "            style=\"display:none;\">\n",
              "\n",
              "  <svg xmlns=\"http://www.w3.org/2000/svg\" height=\"24px\" viewBox=\"0 -960 960 960\">\n",
              "    <path d=\"M120-120v-720h720v720H120Zm60-500h600v-160H180v160Zm220 220h160v-160H400v160Zm0 220h160v-160H400v160ZM180-400h160v-160H180v160Zm440 0h160v-160H620v160ZM180-180h160v-160H180v160Zm440 0h160v-160H620v160Z\"/>\n",
              "  </svg>\n",
              "    </button>\n",
              "\n",
              "  <style>\n",
              "    .colab-df-container {\n",
              "      display:flex;\n",
              "      gap: 12px;\n",
              "    }\n",
              "\n",
              "    .colab-df-convert {\n",
              "      background-color: #E8F0FE;\n",
              "      border: none;\n",
              "      border-radius: 50%;\n",
              "      cursor: pointer;\n",
              "      display: none;\n",
              "      fill: #1967D2;\n",
              "      height: 32px;\n",
              "      padding: 0 0 0 0;\n",
              "      width: 32px;\n",
              "    }\n",
              "\n",
              "    .colab-df-convert:hover {\n",
              "      background-color: #E2EBFA;\n",
              "      box-shadow: 0px 1px 2px rgba(60, 64, 67, 0.3), 0px 1px 3px 1px rgba(60, 64, 67, 0.15);\n",
              "      fill: #174EA6;\n",
              "    }\n",
              "\n",
              "    .colab-df-buttons div {\n",
              "      margin-bottom: 4px;\n",
              "    }\n",
              "\n",
              "    [theme=dark] .colab-df-convert {\n",
              "      background-color: #3B4455;\n",
              "      fill: #D2E3FC;\n",
              "    }\n",
              "\n",
              "    [theme=dark] .colab-df-convert:hover {\n",
              "      background-color: #434B5C;\n",
              "      box-shadow: 0px 1px 3px 1px rgba(0, 0, 0, 0.15);\n",
              "      filter: drop-shadow(0px 1px 2px rgba(0, 0, 0, 0.3));\n",
              "      fill: #FFFFFF;\n",
              "    }\n",
              "  </style>\n",
              "\n",
              "    <script>\n",
              "      const buttonEl =\n",
              "        document.querySelector('#df-dee67fd8-b100-4094-bc64-692c172d57f7 button.colab-df-convert');\n",
              "      buttonEl.style.display =\n",
              "        google.colab.kernel.accessAllowed ? 'block' : 'none';\n",
              "\n",
              "      async function convertToInteractive(key) {\n",
              "        const element = document.querySelector('#df-dee67fd8-b100-4094-bc64-692c172d57f7');\n",
              "        const dataTable =\n",
              "          await google.colab.kernel.invokeFunction('convertToInteractive',\n",
              "                                                    [key], {});\n",
              "        if (!dataTable) return;\n",
              "\n",
              "        const docLinkHtml = 'Like what you see? Visit the ' +\n",
              "          '<a target=\"_blank\" href=https://colab.research.google.com/notebooks/data_table.ipynb>data table notebook</a>'\n",
              "          + ' to learn more about interactive tables.';\n",
              "        element.innerHTML = '';\n",
              "        dataTable['output_type'] = 'display_data';\n",
              "        await google.colab.output.renderOutput(dataTable, element);\n",
              "        const docLink = document.createElement('div');\n",
              "        docLink.innerHTML = docLinkHtml;\n",
              "        element.appendChild(docLink);\n",
              "      }\n",
              "    </script>\n",
              "  </div>\n",
              "\n",
              "\n",
              "<div id=\"df-604a46a8-6170-420c-8928-6e570e302c34\">\n",
              "  <button class=\"colab-df-quickchart\" onclick=\"quickchart('df-604a46a8-6170-420c-8928-6e570e302c34')\"\n",
              "            title=\"Suggest charts.\"\n",
              "            style=\"display:none;\">\n",
              "\n",
              "<svg xmlns=\"http://www.w3.org/2000/svg\" height=\"24px\"viewBox=\"0 0 24 24\"\n",
              "     width=\"24px\">\n",
              "    <g>\n",
              "        <path d=\"M19 3H5c-1.1 0-2 .9-2 2v14c0 1.1.9 2 2 2h14c1.1 0 2-.9 2-2V5c0-1.1-.9-2-2-2zM9 17H7v-7h2v7zm4 0h-2V7h2v10zm4 0h-2v-4h2v4z\"/>\n",
              "    </g>\n",
              "</svg>\n",
              "  </button>\n",
              "\n",
              "<style>\n",
              "  .colab-df-quickchart {\n",
              "    background-color: #E8F0FE;\n",
              "    border: none;\n",
              "    border-radius: 50%;\n",
              "    cursor: pointer;\n",
              "    display: none;\n",
              "    fill: #1967D2;\n",
              "    height: 32px;\n",
              "    padding: 0 0 0 0;\n",
              "    width: 32px;\n",
              "  }\n",
              "\n",
              "  .colab-df-quickchart:hover {\n",
              "    background-color: #E2EBFA;\n",
              "    box-shadow: 0px 1px 2px rgba(60, 64, 67, 0.3), 0px 1px 3px 1px rgba(60, 64, 67, 0.15);\n",
              "    fill: #174EA6;\n",
              "  }\n",
              "\n",
              "  [theme=dark] .colab-df-quickchart {\n",
              "    background-color: #3B4455;\n",
              "    fill: #D2E3FC;\n",
              "  }\n",
              "\n",
              "  [theme=dark] .colab-df-quickchart:hover {\n",
              "    background-color: #434B5C;\n",
              "    box-shadow: 0px 1px 3px 1px rgba(0, 0, 0, 0.15);\n",
              "    filter: drop-shadow(0px 1px 2px rgba(0, 0, 0, 0.3));\n",
              "    fill: #FFFFFF;\n",
              "  }\n",
              "</style>\n",
              "\n",
              "  <script>\n",
              "    async function quickchart(key) {\n",
              "      const charts = await google.colab.kernel.invokeFunction(\n",
              "          'suggestCharts', [key], {});\n",
              "    }\n",
              "    (() => {\n",
              "      let quickchartButtonEl =\n",
              "        document.querySelector('#df-604a46a8-6170-420c-8928-6e570e302c34 button');\n",
              "      quickchartButtonEl.style.display =\n",
              "        google.colab.kernel.accessAllowed ? 'block' : 'none';\n",
              "    })();\n",
              "  </script>\n",
              "</div>\n",
              "    </div>\n",
              "  </div>\n"
            ]
          },
          "metadata": {},
          "execution_count": 34
        }
      ]
    },
    {
      "cell_type": "code",
      "source": [],
      "metadata": {
        "id": "a6CIVcro2-ib"
      },
      "execution_count": 34,
      "outputs": []
    }
  ]
}